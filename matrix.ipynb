{
 "cells": [
  {
   "cell_type": "code",
   "execution_count": 3,
   "id": "bc4c27e3",
   "metadata": {},
   "outputs": [
    {
     "name": "stdout",
     "output_type": "stream",
     "text": [
      "      aeon  aeon_mall  aeon_mall_bình_dương  aeonmall   ah  ai_lại  ai_ngờ   \n",
      "0      0.0        0.0                   0.0       0.0  0.0     0.0     0.0  \\\n",
      "1      0.0        0.0                   0.0       0.0  0.0     0.0     0.0   \n",
      "2      0.0        0.0                   0.0       0.0  0.0     0.0     0.0   \n",
      "3      0.0        0.0                   0.0       0.0  0.0     0.0     0.0   \n",
      "4      0.0        0.0                   0.0       0.0  0.0     0.0     0.0   \n",
      "...    ...        ...                   ...       ...  ...     ...     ...   \n",
      "9669   0.0        0.0                   0.0       0.0  0.0     0.0     0.0   \n",
      "9670   0.0        0.0                   0.0       0.0  0.0     0.0     0.0   \n",
      "9671   0.0        0.0                   0.0       0.0  0.0     0.0     0.0   \n",
      "9672   0.0        0.0                   0.0       0.0  0.0     0.0     0.0   \n",
      "9673   0.0        0.0                   0.0       0.0  0.0     0.0     0.0   \n",
      "\n",
      "      ai_nấy  alaska   an  ...   ốp   ồn  ồn_ào   ổn   ớn   ớt  ủng_hộ   \n",
      "0        0.0     0.0  0.0  ...  0.0  0.0    0.0  0.0  0.0  0.0     0.0  \\\n",
      "1        0.0     0.0  0.0  ...  0.0  0.0    0.0  0.0  0.0  0.0     0.0   \n",
      "2        0.0     0.0  0.0  ...  0.0  0.0    0.0  0.0  0.0  0.0     0.0   \n",
      "3        0.0     0.0  0.0  ...  0.0  0.0    0.0  0.0  0.0  0.0     0.0   \n",
      "4        0.0     0.0  0.0  ...  0.0  0.0    0.0  0.0  0.0  0.0     0.0   \n",
      "...      ...     ...  ...  ...  ...  ...    ...  ...  ...  ...     ...   \n",
      "9669     0.0     0.0  0.0  ...  0.0  0.0    0.0  0.0  0.0  0.0     0.0   \n",
      "9670     0.0     0.0  0.0  ...  0.0  0.0    0.0  0.0  0.0  0.0     0.0   \n",
      "9671     0.0     0.0  0.0  ...  0.0  0.0    0.0  0.0  0.0  0.0     0.0   \n",
      "9672     0.0     0.0  0.0  ...  0.0  0.0    0.0  0.0  0.0  0.0     0.0   \n",
      "9673     0.0     0.0  0.0  ...  0.0  0.0    0.0  0.0  0.0  0.0     0.0   \n",
      "\n",
      "      ủng_hộtrang_trí   ức   ừm  \n",
      "0                 0.0  0.0  0.0  \n",
      "1                 0.0  0.0  0.0  \n",
      "2                 0.0  0.0  0.0  \n",
      "3                 0.0  0.0  0.0  \n",
      "4                 0.0  0.0  0.0  \n",
      "...               ...  ...  ...  \n",
      "9669              0.0  0.0  0.0  \n",
      "9670              0.0  0.0  0.0  \n",
      "9671              0.0  0.0  0.0  \n",
      "9672              0.0  0.0  0.0  \n",
      "9673              0.0  0.0  0.0  \n",
      "\n",
      "[9674 rows x 2584 columns]\n"
     ]
    }
   ],
   "source": [
    "from sklearn.feature_extraction.text import TfidfVectorizer\n",
    "import pandas as pd\n",
    "import os\n",
    "\n",
    "path = 'Pre_Data2'\n",
    "files = os.listdir(path)\n",
    "D=[]\n",
    "for file in files:\n",
    "    f = open(f\"{path}\\{file}\", \"r\", encoding=\"utf-8\")\n",
    "    for line in f:\n",
    "    # Remove linebreak which is the last character of the string\n",
    "        text = line[:-1]\n",
    "        # Add item to the list\n",
    "        D.append(text)\n",
    "\n",
    "tr_idf_model = TfidfVectorizer()\n",
    "tf_idf_vector = tr_idf_model.fit_transform(D)\n",
    "\n",
    "tf_idf_array = tf_idf_vector.toarray()\n",
    "# print(tf_idf_array)\n",
    "\n",
    "W = tr_idf_model.get_feature_names_out()\n",
    "# print(W)\n",
    "\n",
    "df_tf_idf = pd.DataFrame(tf_idf_array, columns=W)\n",
    "print(df_tf_idf)\n",
    "\n",
    "filename = os.path.join(\"Vector.txt\")\n",
    "with open(filename, \"w\", encoding=\"utf-8\") as f:\n",
    "    df_tf_idf.to_string(f)\n"
   ]
  },
  {
   "cell_type": "code",
   "execution_count": null,
   "id": "04eb2d21",
   "metadata": {},
   "outputs": [],
   "source": []
  }
 ],
 "metadata": {
  "kernelspec": {
   "display_name": "Python 3 (ipykernel)",
   "language": "python",
   "name": "python3"
  },
  "language_info": {
   "codemirror_mode": {
    "name": "ipython",
    "version": 3
   },
   "file_extension": ".py",
   "mimetype": "text/x-python",
   "name": "python",
   "nbconvert_exporter": "python",
   "pygments_lexer": "ipython3",
   "version": "3.9.0"
  }
 },
 "nbformat": 4,
 "nbformat_minor": 5
}
